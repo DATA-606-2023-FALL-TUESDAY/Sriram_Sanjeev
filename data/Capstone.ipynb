{
  "nbformat": 4,
  "nbformat_minor": 0,
  "metadata": {
    "colab": {
      "provenance": []
    },
    "kernelspec": {
      "name": "python3",
      "display_name": "Python 3"
    },
    "language_info": {
      "name": "python"
    }
  },
  "cells": [
    {
      "cell_type": "code",
      "execution_count": 1,
      "metadata": {
        "colab": {
          "base_uri": "https://localhost:8080/"
        },
        "id": "iootF3k3mBPc",
        "outputId": "fe68eb93-de74-4b66-b82c-20c978fd22a3"
      },
      "outputs": [
        {
          "output_type": "stream",
          "name": "stdout",
          "text": [
            "Mounted at /content/drive/\n"
          ]
        }
      ],
      "source": [
        "import zipfile\n",
        "from google.colab import drive\n",
        "\n",
        "drive.mount('/content/drive/')\n"
      ]
    },
    {
      "cell_type": "code",
      "source": [
        "!unzip /content/drive/MyDrive/Project/archive.zip"
      ],
      "metadata": {
        "colab": {
          "base_uri": "https://localhost:8080/"
        },
        "id": "-3wRiBXMoA89",
        "outputId": "bd60b531-e00a-4f8b-c819-8b28e9c43caf"
      },
      "execution_count": 18,
      "outputs": [
        {
          "output_type": "stream",
          "name": "stdout",
          "text": [
            "Archive:  /content/drive/MyDrive/Project/archive.zip\n",
            "  inflating: BR_category_id.json     \n",
            "  inflating: BR_youtube_trending_data.csv  \n",
            "  inflating: CA_category_id.json     \n",
            "  inflating: CA_youtube_trending_data.csv  \n",
            "  inflating: DE_category_id.json     \n",
            "  inflating: DE_youtube_trending_data.csv  \n",
            "  inflating: FR_category_id.json     \n",
            "  inflating: FR_youtube_trending_data.csv  \n",
            "  inflating: GB_category_id.json     \n",
            "  inflating: GB_youtube_trending_data.csv  \n",
            "  inflating: IN_category_id.json     \n",
            "  inflating: IN_youtube_trending_data.csv  \n",
            "  inflating: JP_category_id.json     \n",
            "  inflating: JP_youtube_trending_data.csv  \n",
            "  inflating: KR_category_id.json     \n",
            "  inflating: KR_youtube_trending_data.csv  \n",
            "  inflating: MX_category_id.json     \n",
            "  inflating: MX_youtube_trending_data.csv  \n",
            "  inflating: RU_category_id.json     \n",
            "  inflating: RU_youtube_trending_data.csv  \n",
            "  inflating: US_category_id.json     \n",
            "  inflating: US_youtube_trending_data.csv  \n"
          ]
        }
      ]
    },
    {
      "cell_type": "code",
      "source": [
        "import pandas as pd\n",
        "df = pd.read_csv(\"/content/US_youtube_trending_data.csv\")\n"
      ],
      "metadata": {
        "id": "vNDJlDP-oz-o"
      },
      "execution_count": 20,
      "outputs": []
    },
    {
      "cell_type": "code",
      "source": [
        "df"
      ],
      "metadata": {
        "colab": {
          "base_uri": "https://localhost:8080/",
          "height": 947
        },
        "id": "dt-CqM-3seT4",
        "outputId": "0e582494-e4e2-4677-d0a4-cebb00a38108"
      },
      "execution_count": 21,
      "outputs": [
        {
          "output_type": "execute_result",
          "data": {
            "text/plain": [
              "           video_id                                              title  \\\n",
              "0       3C66w5Z0ixs                 I ASKED HER TO BE MY GIRLFRIEND...   \n",
              "1       M9Pmf9AB4Mo  Apex Legends | Stories from the Outlands – “Th...   \n",
              "2       J78aPJ3VyNs  I left youtube for a month and THIS is what ha...   \n",
              "3       kXLn3HkpjaA  XXL 2020 Freshman Class Revealed - Official An...   \n",
              "4       VIUo6yapDbc  Ultimate DIY Home Movie Theater for The LaBran...   \n",
              "...             ...                                                ...   \n",
              "229783  bvX3oinPTCg  Dropout's 5th Anniversary (and What's Coming N...   \n",
              "229784  2sYBKSkWJYE      Ariana Madix’s Tango – Dancing with the Stars   \n",
              "229785  z6nJ4Xq4AeI                   This Party Animals Video is Wild   \n",
              "229786  _9Z05Ik5r2U       I bought the shoes that make you walk faster   \n",
              "229787  mSYdGeSAJh4  Jayson Tatum Brings the 2T Jersey for Kevin Ha...   \n",
              "\n",
              "                 publishedAt                 channelId  \\\n",
              "0       2020-08-11T19:20:14Z  UCvtRTOMP2TqYqu51xNrqAzg   \n",
              "1       2020-08-11T17:00:10Z  UC0ZV6M2THA81QT9hrVWJG3A   \n",
              "2       2020-08-11T16:34:06Z  UCYzPXprvl5Y-Sf0g4vX-m6g   \n",
              "3       2020-08-11T16:38:55Z  UCbg_UMjlHJg_19SZckaKajg   \n",
              "4       2020-08-11T15:10:05Z  UCDVPcEbVLQgLZX0Rt6jo34A   \n",
              "...                      ...                       ...   \n",
              "229783  2023-09-26T17:30:09Z  UCPDXXXJj9nax0fr0Wfc048g   \n",
              "229784  2023-09-27T05:31:49Z  UCLOIoa2aEGcM-z1hJx4vy4w   \n",
              "229785  2023-09-26T16:00:58Z  UC-gW4TeZAlKm7UATp24JsWQ   \n",
              "229786  2023-09-25T18:16:05Z  UCTSRIY3GLFYIpkR2QwyeklA   \n",
              "229787  2023-09-26T14:05:45Z  UCLRmIdRJgLfmdpJufmBhBuA   \n",
              "\n",
              "                  channelTitle  categoryId         trending_date  \\\n",
              "0                     Brawadis          22  2020-08-12T00:00:00Z   \n",
              "1                 Apex Legends          20  2020-08-12T00:00:00Z   \n",
              "2                jacksepticeye          24  2020-08-12T00:00:00Z   \n",
              "3                          XXL          10  2020-08-12T00:00:00Z   \n",
              "4                     Mr. Kate          26  2020-08-12T00:00:00Z   \n",
              "...                        ...         ...                   ...   \n",
              "229783                 Dropout          23  2023-10-03T00:00:00Z   \n",
              "229784  Dancing With The Stars          24  2023-10-03T00:00:00Z   \n",
              "229785              SMii7Yplus          20  2023-10-03T00:00:00Z   \n",
              "229786             Drew Gooden          23  2023-10-03T00:00:00Z   \n",
              "229787             LOL Network          23  2023-10-03T00:00:00Z   \n",
              "\n",
              "                                                     tags  view_count   likes  \\\n",
              "0       brawadis|prank|basketball|skits|ghost|funny vi...     1514614  156908   \n",
              "1       Apex Legends|Apex Legends characters|new Apex ...     2381688  146739   \n",
              "2       jacksepticeye|funny|funny meme|memes|jacksepti...     2038853  353787   \n",
              "3       xxl freshman|xxl freshmen|2020 xxl freshman|20...      496771   23251   \n",
              "4       The LaBrant Family|DIY|Interior Design|Makeove...     1123889   45802   \n",
              "...                                                   ...         ...     ...   \n",
              "229783  Collegehumor|comedy|humor|funny|dropout|improv...      571723   55523   \n",
              "229784  Disney+|Disney Plus|Disney|streaming|Dancing W...      386735    2771   \n",
              "229785  smii7y|smii7yplus|smii7y+|smii7y plus|party an...     1874992   90282   \n",
              "229786  drew gooden|comedy|commentary|reaction|vine|dr...     1992642  163243   \n",
              "229787  kevin hart|hartbeat productions|funny|comedy|c...     1592265   15111   \n",
              "\n",
              "        dislikes  comment_count  \\\n",
              "0           5855          35313   \n",
              "1           2794          16549   \n",
              "2           2628          40221   \n",
              "3           1856           7647   \n",
              "4            964           2196   \n",
              "...          ...            ...   \n",
              "229783         0           3017   \n",
              "229784         0            352   \n",
              "229785         0           1517   \n",
              "229786         0           6561   \n",
              "229787         0            536   \n",
              "\n",
              "                                        thumbnail_link  comments_disabled  \\\n",
              "0       https://i.ytimg.com/vi/3C66w5Z0ixs/default.jpg              False   \n",
              "1       https://i.ytimg.com/vi/M9Pmf9AB4Mo/default.jpg              False   \n",
              "2       https://i.ytimg.com/vi/J78aPJ3VyNs/default.jpg              False   \n",
              "3       https://i.ytimg.com/vi/kXLn3HkpjaA/default.jpg              False   \n",
              "4       https://i.ytimg.com/vi/VIUo6yapDbc/default.jpg              False   \n",
              "...                                                ...                ...   \n",
              "229783  https://i.ytimg.com/vi/bvX3oinPTCg/default.jpg              False   \n",
              "229784  https://i.ytimg.com/vi/2sYBKSkWJYE/default.jpg              False   \n",
              "229785  https://i.ytimg.com/vi/z6nJ4Xq4AeI/default.jpg              False   \n",
              "229786  https://i.ytimg.com/vi/_9Z05Ik5r2U/default.jpg              False   \n",
              "229787  https://i.ytimg.com/vi/mSYdGeSAJh4/default.jpg              False   \n",
              "\n",
              "        ratings_disabled                                        description  \n",
              "0                  False  SUBSCRIBE to BRAWADIS ▶ http://bit.ly/Subscrib...  \n",
              "1                  False  While running her own modding shop, Ramya Pare...  \n",
              "2                  False  I left youtube for a month and this is what ha...  \n",
              "3                  False  Subscribe to XXL → http://bit.ly/subscribe-xxl...  \n",
              "4                  False  Transforming The LaBrant Family's empty white ...  \n",
              "...                  ...                                                ...  \n",
              "229783             False  Celebrating 5 years of being just like Netflix...  \n",
              "229784             False  Ariana Madix & Pasha dance Tango to “Love Myse...  \n",
              "229785             False  You must be goofy if you think I wasn't gonna ...  \n",
              "229786             False  Sponsored by HelloFresh. For 50% off with Hell...  \n",
              "229787             False  #PoweredByOldSpice#ColdasBalls is back and #Ke...  \n",
              "\n",
              "[229788 rows x 16 columns]"
            ],
            "text/html": [
              "\n",
              "  <div id=\"df-01072238-e308-49af-9831-5231301cbd12\" class=\"colab-df-container\">\n",
              "    <div>\n",
              "<style scoped>\n",
              "    .dataframe tbody tr th:only-of-type {\n",
              "        vertical-align: middle;\n",
              "    }\n",
              "\n",
              "    .dataframe tbody tr th {\n",
              "        vertical-align: top;\n",
              "    }\n",
              "\n",
              "    .dataframe thead th {\n",
              "        text-align: right;\n",
              "    }\n",
              "</style>\n",
              "<table border=\"1\" class=\"dataframe\">\n",
              "  <thead>\n",
              "    <tr style=\"text-align: right;\">\n",
              "      <th></th>\n",
              "      <th>video_id</th>\n",
              "      <th>title</th>\n",
              "      <th>publishedAt</th>\n",
              "      <th>channelId</th>\n",
              "      <th>channelTitle</th>\n",
              "      <th>categoryId</th>\n",
              "      <th>trending_date</th>\n",
              "      <th>tags</th>\n",
              "      <th>view_count</th>\n",
              "      <th>likes</th>\n",
              "      <th>dislikes</th>\n",
              "      <th>comment_count</th>\n",
              "      <th>thumbnail_link</th>\n",
              "      <th>comments_disabled</th>\n",
              "      <th>ratings_disabled</th>\n",
              "      <th>description</th>\n",
              "    </tr>\n",
              "  </thead>\n",
              "  <tbody>\n",
              "    <tr>\n",
              "      <th>0</th>\n",
              "      <td>3C66w5Z0ixs</td>\n",
              "      <td>I ASKED HER TO BE MY GIRLFRIEND...</td>\n",
              "      <td>2020-08-11T19:20:14Z</td>\n",
              "      <td>UCvtRTOMP2TqYqu51xNrqAzg</td>\n",
              "      <td>Brawadis</td>\n",
              "      <td>22</td>\n",
              "      <td>2020-08-12T00:00:00Z</td>\n",
              "      <td>brawadis|prank|basketball|skits|ghost|funny vi...</td>\n",
              "      <td>1514614</td>\n",
              "      <td>156908</td>\n",
              "      <td>5855</td>\n",
              "      <td>35313</td>\n",
              "      <td>https://i.ytimg.com/vi/3C66w5Z0ixs/default.jpg</td>\n",
              "      <td>False</td>\n",
              "      <td>False</td>\n",
              "      <td>SUBSCRIBE to BRAWADIS ▶ http://bit.ly/Subscrib...</td>\n",
              "    </tr>\n",
              "    <tr>\n",
              "      <th>1</th>\n",
              "      <td>M9Pmf9AB4Mo</td>\n",
              "      <td>Apex Legends | Stories from the Outlands – “Th...</td>\n",
              "      <td>2020-08-11T17:00:10Z</td>\n",
              "      <td>UC0ZV6M2THA81QT9hrVWJG3A</td>\n",
              "      <td>Apex Legends</td>\n",
              "      <td>20</td>\n",
              "      <td>2020-08-12T00:00:00Z</td>\n",
              "      <td>Apex Legends|Apex Legends characters|new Apex ...</td>\n",
              "      <td>2381688</td>\n",
              "      <td>146739</td>\n",
              "      <td>2794</td>\n",
              "      <td>16549</td>\n",
              "      <td>https://i.ytimg.com/vi/M9Pmf9AB4Mo/default.jpg</td>\n",
              "      <td>False</td>\n",
              "      <td>False</td>\n",
              "      <td>While running her own modding shop, Ramya Pare...</td>\n",
              "    </tr>\n",
              "    <tr>\n",
              "      <th>2</th>\n",
              "      <td>J78aPJ3VyNs</td>\n",
              "      <td>I left youtube for a month and THIS is what ha...</td>\n",
              "      <td>2020-08-11T16:34:06Z</td>\n",
              "      <td>UCYzPXprvl5Y-Sf0g4vX-m6g</td>\n",
              "      <td>jacksepticeye</td>\n",
              "      <td>24</td>\n",
              "      <td>2020-08-12T00:00:00Z</td>\n",
              "      <td>jacksepticeye|funny|funny meme|memes|jacksepti...</td>\n",
              "      <td>2038853</td>\n",
              "      <td>353787</td>\n",
              "      <td>2628</td>\n",
              "      <td>40221</td>\n",
              "      <td>https://i.ytimg.com/vi/J78aPJ3VyNs/default.jpg</td>\n",
              "      <td>False</td>\n",
              "      <td>False</td>\n",
              "      <td>I left youtube for a month and this is what ha...</td>\n",
              "    </tr>\n",
              "    <tr>\n",
              "      <th>3</th>\n",
              "      <td>kXLn3HkpjaA</td>\n",
              "      <td>XXL 2020 Freshman Class Revealed - Official An...</td>\n",
              "      <td>2020-08-11T16:38:55Z</td>\n",
              "      <td>UCbg_UMjlHJg_19SZckaKajg</td>\n",
              "      <td>XXL</td>\n",
              "      <td>10</td>\n",
              "      <td>2020-08-12T00:00:00Z</td>\n",
              "      <td>xxl freshman|xxl freshmen|2020 xxl freshman|20...</td>\n",
              "      <td>496771</td>\n",
              "      <td>23251</td>\n",
              "      <td>1856</td>\n",
              "      <td>7647</td>\n",
              "      <td>https://i.ytimg.com/vi/kXLn3HkpjaA/default.jpg</td>\n",
              "      <td>False</td>\n",
              "      <td>False</td>\n",
              "      <td>Subscribe to XXL → http://bit.ly/subscribe-xxl...</td>\n",
              "    </tr>\n",
              "    <tr>\n",
              "      <th>4</th>\n",
              "      <td>VIUo6yapDbc</td>\n",
              "      <td>Ultimate DIY Home Movie Theater for The LaBran...</td>\n",
              "      <td>2020-08-11T15:10:05Z</td>\n",
              "      <td>UCDVPcEbVLQgLZX0Rt6jo34A</td>\n",
              "      <td>Mr. Kate</td>\n",
              "      <td>26</td>\n",
              "      <td>2020-08-12T00:00:00Z</td>\n",
              "      <td>The LaBrant Family|DIY|Interior Design|Makeove...</td>\n",
              "      <td>1123889</td>\n",
              "      <td>45802</td>\n",
              "      <td>964</td>\n",
              "      <td>2196</td>\n",
              "      <td>https://i.ytimg.com/vi/VIUo6yapDbc/default.jpg</td>\n",
              "      <td>False</td>\n",
              "      <td>False</td>\n",
              "      <td>Transforming The LaBrant Family's empty white ...</td>\n",
              "    </tr>\n",
              "    <tr>\n",
              "      <th>...</th>\n",
              "      <td>...</td>\n",
              "      <td>...</td>\n",
              "      <td>...</td>\n",
              "      <td>...</td>\n",
              "      <td>...</td>\n",
              "      <td>...</td>\n",
              "      <td>...</td>\n",
              "      <td>...</td>\n",
              "      <td>...</td>\n",
              "      <td>...</td>\n",
              "      <td>...</td>\n",
              "      <td>...</td>\n",
              "      <td>...</td>\n",
              "      <td>...</td>\n",
              "      <td>...</td>\n",
              "      <td>...</td>\n",
              "    </tr>\n",
              "    <tr>\n",
              "      <th>229783</th>\n",
              "      <td>bvX3oinPTCg</td>\n",
              "      <td>Dropout's 5th Anniversary (and What's Coming N...</td>\n",
              "      <td>2023-09-26T17:30:09Z</td>\n",
              "      <td>UCPDXXXJj9nax0fr0Wfc048g</td>\n",
              "      <td>Dropout</td>\n",
              "      <td>23</td>\n",
              "      <td>2023-10-03T00:00:00Z</td>\n",
              "      <td>Collegehumor|comedy|humor|funny|dropout|improv...</td>\n",
              "      <td>571723</td>\n",
              "      <td>55523</td>\n",
              "      <td>0</td>\n",
              "      <td>3017</td>\n",
              "      <td>https://i.ytimg.com/vi/bvX3oinPTCg/default.jpg</td>\n",
              "      <td>False</td>\n",
              "      <td>False</td>\n",
              "      <td>Celebrating 5 years of being just like Netflix...</td>\n",
              "    </tr>\n",
              "    <tr>\n",
              "      <th>229784</th>\n",
              "      <td>2sYBKSkWJYE</td>\n",
              "      <td>Ariana Madix’s Tango – Dancing with the Stars</td>\n",
              "      <td>2023-09-27T05:31:49Z</td>\n",
              "      <td>UCLOIoa2aEGcM-z1hJx4vy4w</td>\n",
              "      <td>Dancing With The Stars</td>\n",
              "      <td>24</td>\n",
              "      <td>2023-10-03T00:00:00Z</td>\n",
              "      <td>Disney+|Disney Plus|Disney|streaming|Dancing W...</td>\n",
              "      <td>386735</td>\n",
              "      <td>2771</td>\n",
              "      <td>0</td>\n",
              "      <td>352</td>\n",
              "      <td>https://i.ytimg.com/vi/2sYBKSkWJYE/default.jpg</td>\n",
              "      <td>False</td>\n",
              "      <td>False</td>\n",
              "      <td>Ariana Madix &amp; Pasha dance Tango to “Love Myse...</td>\n",
              "    </tr>\n",
              "    <tr>\n",
              "      <th>229785</th>\n",
              "      <td>z6nJ4Xq4AeI</td>\n",
              "      <td>This Party Animals Video is Wild</td>\n",
              "      <td>2023-09-26T16:00:58Z</td>\n",
              "      <td>UC-gW4TeZAlKm7UATp24JsWQ</td>\n",
              "      <td>SMii7Yplus</td>\n",
              "      <td>20</td>\n",
              "      <td>2023-10-03T00:00:00Z</td>\n",
              "      <td>smii7y|smii7yplus|smii7y+|smii7y plus|party an...</td>\n",
              "      <td>1874992</td>\n",
              "      <td>90282</td>\n",
              "      <td>0</td>\n",
              "      <td>1517</td>\n",
              "      <td>https://i.ytimg.com/vi/z6nJ4Xq4AeI/default.jpg</td>\n",
              "      <td>False</td>\n",
              "      <td>False</td>\n",
              "      <td>You must be goofy if you think I wasn't gonna ...</td>\n",
              "    </tr>\n",
              "    <tr>\n",
              "      <th>229786</th>\n",
              "      <td>_9Z05Ik5r2U</td>\n",
              "      <td>I bought the shoes that make you walk faster</td>\n",
              "      <td>2023-09-25T18:16:05Z</td>\n",
              "      <td>UCTSRIY3GLFYIpkR2QwyeklA</td>\n",
              "      <td>Drew Gooden</td>\n",
              "      <td>23</td>\n",
              "      <td>2023-10-03T00:00:00Z</td>\n",
              "      <td>drew gooden|comedy|commentary|reaction|vine|dr...</td>\n",
              "      <td>1992642</td>\n",
              "      <td>163243</td>\n",
              "      <td>0</td>\n",
              "      <td>6561</td>\n",
              "      <td>https://i.ytimg.com/vi/_9Z05Ik5r2U/default.jpg</td>\n",
              "      <td>False</td>\n",
              "      <td>False</td>\n",
              "      <td>Sponsored by HelloFresh. For 50% off with Hell...</td>\n",
              "    </tr>\n",
              "    <tr>\n",
              "      <th>229787</th>\n",
              "      <td>mSYdGeSAJh4</td>\n",
              "      <td>Jayson Tatum Brings the 2T Jersey for Kevin Ha...</td>\n",
              "      <td>2023-09-26T14:05:45Z</td>\n",
              "      <td>UCLRmIdRJgLfmdpJufmBhBuA</td>\n",
              "      <td>LOL Network</td>\n",
              "      <td>23</td>\n",
              "      <td>2023-10-03T00:00:00Z</td>\n",
              "      <td>kevin hart|hartbeat productions|funny|comedy|c...</td>\n",
              "      <td>1592265</td>\n",
              "      <td>15111</td>\n",
              "      <td>0</td>\n",
              "      <td>536</td>\n",
              "      <td>https://i.ytimg.com/vi/mSYdGeSAJh4/default.jpg</td>\n",
              "      <td>False</td>\n",
              "      <td>False</td>\n",
              "      <td>#PoweredByOldSpice#ColdasBalls is back and #Ke...</td>\n",
              "    </tr>\n",
              "  </tbody>\n",
              "</table>\n",
              "<p>229788 rows × 16 columns</p>\n",
              "</div>\n",
              "    <div class=\"colab-df-buttons\">\n",
              "\n",
              "  <div class=\"colab-df-container\">\n",
              "    <button class=\"colab-df-convert\" onclick=\"convertToInteractive('df-01072238-e308-49af-9831-5231301cbd12')\"\n",
              "            title=\"Convert this dataframe to an interactive table.\"\n",
              "            style=\"display:none;\">\n",
              "\n",
              "  <svg xmlns=\"http://www.w3.org/2000/svg\" height=\"24px\" viewBox=\"0 -960 960 960\">\n",
              "    <path d=\"M120-120v-720h720v720H120Zm60-500h600v-160H180v160Zm220 220h160v-160H400v160Zm0 220h160v-160H400v160ZM180-400h160v-160H180v160Zm440 0h160v-160H620v160ZM180-180h160v-160H180v160Zm440 0h160v-160H620v160Z\"/>\n",
              "  </svg>\n",
              "    </button>\n",
              "\n",
              "  <style>\n",
              "    .colab-df-container {\n",
              "      display:flex;\n",
              "      gap: 12px;\n",
              "    }\n",
              "\n",
              "    .colab-df-convert {\n",
              "      background-color: #E8F0FE;\n",
              "      border: none;\n",
              "      border-radius: 50%;\n",
              "      cursor: pointer;\n",
              "      display: none;\n",
              "      fill: #1967D2;\n",
              "      height: 32px;\n",
              "      padding: 0 0 0 0;\n",
              "      width: 32px;\n",
              "    }\n",
              "\n",
              "    .colab-df-convert:hover {\n",
              "      background-color: #E2EBFA;\n",
              "      box-shadow: 0px 1px 2px rgba(60, 64, 67, 0.3), 0px 1px 3px 1px rgba(60, 64, 67, 0.15);\n",
              "      fill: #174EA6;\n",
              "    }\n",
              "\n",
              "    .colab-df-buttons div {\n",
              "      margin-bottom: 4px;\n",
              "    }\n",
              "\n",
              "    [theme=dark] .colab-df-convert {\n",
              "      background-color: #3B4455;\n",
              "      fill: #D2E3FC;\n",
              "    }\n",
              "\n",
              "    [theme=dark] .colab-df-convert:hover {\n",
              "      background-color: #434B5C;\n",
              "      box-shadow: 0px 1px 3px 1px rgba(0, 0, 0, 0.15);\n",
              "      filter: drop-shadow(0px 1px 2px rgba(0, 0, 0, 0.3));\n",
              "      fill: #FFFFFF;\n",
              "    }\n",
              "  </style>\n",
              "\n",
              "    <script>\n",
              "      const buttonEl =\n",
              "        document.querySelector('#df-01072238-e308-49af-9831-5231301cbd12 button.colab-df-convert');\n",
              "      buttonEl.style.display =\n",
              "        google.colab.kernel.accessAllowed ? 'block' : 'none';\n",
              "\n",
              "      async function convertToInteractive(key) {\n",
              "        const element = document.querySelector('#df-01072238-e308-49af-9831-5231301cbd12');\n",
              "        const dataTable =\n",
              "          await google.colab.kernel.invokeFunction('convertToInteractive',\n",
              "                                                    [key], {});\n",
              "        if (!dataTable) return;\n",
              "\n",
              "        const docLinkHtml = 'Like what you see? Visit the ' +\n",
              "          '<a target=\"_blank\" href=https://colab.research.google.com/notebooks/data_table.ipynb>data table notebook</a>'\n",
              "          + ' to learn more about interactive tables.';\n",
              "        element.innerHTML = '';\n",
              "        dataTable['output_type'] = 'display_data';\n",
              "        await google.colab.output.renderOutput(dataTable, element);\n",
              "        const docLink = document.createElement('div');\n",
              "        docLink.innerHTML = docLinkHtml;\n",
              "        element.appendChild(docLink);\n",
              "      }\n",
              "    </script>\n",
              "  </div>\n",
              "\n",
              "\n",
              "<div id=\"df-b5ba0bc0-98d8-4af8-9964-9d4ab73065cc\">\n",
              "  <button class=\"colab-df-quickchart\" onclick=\"quickchart('df-b5ba0bc0-98d8-4af8-9964-9d4ab73065cc')\"\n",
              "            title=\"Suggest charts.\"\n",
              "            style=\"display:none;\">\n",
              "\n",
              "<svg xmlns=\"http://www.w3.org/2000/svg\" height=\"24px\"viewBox=\"0 0 24 24\"\n",
              "     width=\"24px\">\n",
              "    <g>\n",
              "        <path d=\"M19 3H5c-1.1 0-2 .9-2 2v14c0 1.1.9 2 2 2h14c1.1 0 2-.9 2-2V5c0-1.1-.9-2-2-2zM9 17H7v-7h2v7zm4 0h-2V7h2v10zm4 0h-2v-4h2v4z\"/>\n",
              "    </g>\n",
              "</svg>\n",
              "  </button>\n",
              "\n",
              "<style>\n",
              "  .colab-df-quickchart {\n",
              "      --bg-color: #E8F0FE;\n",
              "      --fill-color: #1967D2;\n",
              "      --hover-bg-color: #E2EBFA;\n",
              "      --hover-fill-color: #174EA6;\n",
              "      --disabled-fill-color: #AAA;\n",
              "      --disabled-bg-color: #DDD;\n",
              "  }\n",
              "\n",
              "  [theme=dark] .colab-df-quickchart {\n",
              "      --bg-color: #3B4455;\n",
              "      --fill-color: #D2E3FC;\n",
              "      --hover-bg-color: #434B5C;\n",
              "      --hover-fill-color: #FFFFFF;\n",
              "      --disabled-bg-color: #3B4455;\n",
              "      --disabled-fill-color: #666;\n",
              "  }\n",
              "\n",
              "  .colab-df-quickchart {\n",
              "    background-color: var(--bg-color);\n",
              "    border: none;\n",
              "    border-radius: 50%;\n",
              "    cursor: pointer;\n",
              "    display: none;\n",
              "    fill: var(--fill-color);\n",
              "    height: 32px;\n",
              "    padding: 0;\n",
              "    width: 32px;\n",
              "  }\n",
              "\n",
              "  .colab-df-quickchart:hover {\n",
              "    background-color: var(--hover-bg-color);\n",
              "    box-shadow: 0 1px 2px rgba(60, 64, 67, 0.3), 0 1px 3px 1px rgba(60, 64, 67, 0.15);\n",
              "    fill: var(--button-hover-fill-color);\n",
              "  }\n",
              "\n",
              "  .colab-df-quickchart-complete:disabled,\n",
              "  .colab-df-quickchart-complete:disabled:hover {\n",
              "    background-color: var(--disabled-bg-color);\n",
              "    fill: var(--disabled-fill-color);\n",
              "    box-shadow: none;\n",
              "  }\n",
              "\n",
              "  .colab-df-spinner {\n",
              "    border: 2px solid var(--fill-color);\n",
              "    border-color: transparent;\n",
              "    border-bottom-color: var(--fill-color);\n",
              "    animation:\n",
              "      spin 1s steps(1) infinite;\n",
              "  }\n",
              "\n",
              "  @keyframes spin {\n",
              "    0% {\n",
              "      border-color: transparent;\n",
              "      border-bottom-color: var(--fill-color);\n",
              "      border-left-color: var(--fill-color);\n",
              "    }\n",
              "    20% {\n",
              "      border-color: transparent;\n",
              "      border-left-color: var(--fill-color);\n",
              "      border-top-color: var(--fill-color);\n",
              "    }\n",
              "    30% {\n",
              "      border-color: transparent;\n",
              "      border-left-color: var(--fill-color);\n",
              "      border-top-color: var(--fill-color);\n",
              "      border-right-color: var(--fill-color);\n",
              "    }\n",
              "    40% {\n",
              "      border-color: transparent;\n",
              "      border-right-color: var(--fill-color);\n",
              "      border-top-color: var(--fill-color);\n",
              "    }\n",
              "    60% {\n",
              "      border-color: transparent;\n",
              "      border-right-color: var(--fill-color);\n",
              "    }\n",
              "    80% {\n",
              "      border-color: transparent;\n",
              "      border-right-color: var(--fill-color);\n",
              "      border-bottom-color: var(--fill-color);\n",
              "    }\n",
              "    90% {\n",
              "      border-color: transparent;\n",
              "      border-bottom-color: var(--fill-color);\n",
              "    }\n",
              "  }\n",
              "</style>\n",
              "\n",
              "  <script>\n",
              "    async function quickchart(key) {\n",
              "      const quickchartButtonEl =\n",
              "        document.querySelector('#' + key + ' button');\n",
              "      quickchartButtonEl.disabled = true;  // To prevent multiple clicks.\n",
              "      quickchartButtonEl.classList.add('colab-df-spinner');\n",
              "      try {\n",
              "        const charts = await google.colab.kernel.invokeFunction(\n",
              "            'suggestCharts', [key], {});\n",
              "      } catch (error) {\n",
              "        console.error('Error during call to suggestCharts:', error);\n",
              "      }\n",
              "      quickchartButtonEl.classList.remove('colab-df-spinner');\n",
              "      quickchartButtonEl.classList.add('colab-df-quickchart-complete');\n",
              "    }\n",
              "    (() => {\n",
              "      let quickchartButtonEl =\n",
              "        document.querySelector('#df-b5ba0bc0-98d8-4af8-9964-9d4ab73065cc button');\n",
              "      quickchartButtonEl.style.display =\n",
              "        google.colab.kernel.accessAllowed ? 'block' : 'none';\n",
              "    })();\n",
              "  </script>\n",
              "</div>\n",
              "    </div>\n",
              "  </div>\n"
            ]
          },
          "metadata": {},
          "execution_count": 21
        }
      ]
    },
    {
      "cell_type": "code",
      "source": [
        "df.shape\n"
      ],
      "metadata": {
        "colab": {
          "base_uri": "https://localhost:8080/"
        },
        "id": "0QENcl9NslYT",
        "outputId": "9e75bad4-b4bd-44e8-ac30-1aed376dff76"
      },
      "execution_count": 25,
      "outputs": [
        {
          "output_type": "execute_result",
          "data": {
            "text/plain": [
              "(229788, 16)"
            ]
          },
          "metadata": {},
          "execution_count": 25
        }
      ]
    },
    {
      "cell_type": "code",
      "source": [
        "df.info()"
      ],
      "metadata": {
        "colab": {
          "base_uri": "https://localhost:8080/"
        },
        "id": "3AymZzO1soRD",
        "outputId": "f1c71ceb-c2be-4333-ce4c-f19c09d8bfb4"
      },
      "execution_count": 24,
      "outputs": [
        {
          "output_type": "stream",
          "name": "stdout",
          "text": [
            "<class 'pandas.core.frame.DataFrame'>\n",
            "RangeIndex: 229788 entries, 0 to 229787\n",
            "Data columns (total 16 columns):\n",
            " #   Column             Non-Null Count   Dtype \n",
            "---  ------             --------------   ----- \n",
            " 0   video_id           229788 non-null  object\n",
            " 1   title              229788 non-null  object\n",
            " 2   publishedAt        229788 non-null  object\n",
            " 3   channelId          229788 non-null  object\n",
            " 4   channelTitle       229788 non-null  object\n",
            " 5   categoryId         229788 non-null  int64 \n",
            " 6   trending_date      229788 non-null  object\n",
            " 7   tags               229788 non-null  object\n",
            " 8   view_count         229788 non-null  int64 \n",
            " 9   likes              229788 non-null  int64 \n",
            " 10  dislikes           229788 non-null  int64 \n",
            " 11  comment_count      229788 non-null  int64 \n",
            " 12  thumbnail_link     229788 non-null  object\n",
            " 13  comments_disabled  229788 non-null  bool  \n",
            " 14  ratings_disabled   229788 non-null  bool  \n",
            " 15  description        225387 non-null  object\n",
            "dtypes: bool(2), int64(5), object(9)\n",
            "memory usage: 25.0+ MB\n"
          ]
        }
      ]
    },
    {
      "cell_type": "code",
      "source": [
        "df.columns"
      ],
      "metadata": {
        "colab": {
          "base_uri": "https://localhost:8080/"
        },
        "id": "KFBDKm9UsqsN",
        "outputId": "5ebcbd07-dd5a-45ca-e93e-a6402853c13d"
      },
      "execution_count": 27,
      "outputs": [
        {
          "output_type": "execute_result",
          "data": {
            "text/plain": [
              "Index(['video_id', 'title', 'publishedAt', 'channelId', 'channelTitle',\n",
              "       'categoryId', 'trending_date', 'tags', 'view_count', 'likes',\n",
              "       'dislikes', 'comment_count', 'thumbnail_link', 'comments_disabled',\n",
              "       'ratings_disabled', 'description'],\n",
              "      dtype='object')"
            ]
          },
          "metadata": {},
          "execution_count": 27
        }
      ]
    },
    {
      "cell_type": "code",
      "source": [
        "df.isnull().sum()"
      ],
      "metadata": {
        "colab": {
          "base_uri": "https://localhost:8080/"
        },
        "id": "Xa75s35xsx5L",
        "outputId": "80359284-e4fe-475b-828e-ea5b21b8c1a5"
      },
      "execution_count": 31,
      "outputs": [
        {
          "output_type": "execute_result",
          "data": {
            "text/plain": [
              "video_id                0\n",
              "title                   0\n",
              "publishedAt             0\n",
              "channelId               0\n",
              "channelTitle            0\n",
              "categoryId              0\n",
              "trending_date           0\n",
              "tags                    0\n",
              "view_count              0\n",
              "likes                   0\n",
              "dislikes                0\n",
              "comment_count           0\n",
              "thumbnail_link          0\n",
              "comments_disabled       0\n",
              "ratings_disabled        0\n",
              "description          4401\n",
              "dtype: int64"
            ]
          },
          "metadata": {},
          "execution_count": 31
        }
      ]
    },
    {
      "cell_type": "code",
      "source": [
        "df = df.drop(['description'], axis=1)"
      ],
      "metadata": {
        "id": "tCv-fqvDv_FW"
      },
      "execution_count": 51,
      "outputs": []
    },
    {
      "cell_type": "code",
      "source": [
        "df.info()"
      ],
      "metadata": {
        "colab": {
          "base_uri": "https://localhost:8080/"
        },
        "id": "8DF4p0kEwhSw",
        "outputId": "44218ce4-f73c-4ef6-c213-406adb1c7e5b"
      },
      "execution_count": 53,
      "outputs": [
        {
          "output_type": "stream",
          "name": "stdout",
          "text": [
            "<class 'pandas.core.frame.DataFrame'>\n",
            "RangeIndex: 229788 entries, 0 to 229787\n",
            "Data columns (total 15 columns):\n",
            " #   Column             Non-Null Count   Dtype \n",
            "---  ------             --------------   ----- \n",
            " 0   video_id           229788 non-null  object\n",
            " 1   title              229788 non-null  object\n",
            " 2   publishedAt        229788 non-null  object\n",
            " 3   channelId          229788 non-null  object\n",
            " 4   channelTitle       229788 non-null  object\n",
            " 5   categoryId         229788 non-null  int64 \n",
            " 6   trending_date      229788 non-null  object\n",
            " 7   tags               229788 non-null  object\n",
            " 8   view_count         229788 non-null  int64 \n",
            " 9   likes              229788 non-null  int64 \n",
            " 10  dislikes           229788 non-null  int64 \n",
            " 11  comment_count      229788 non-null  int64 \n",
            " 12  thumbnail_link     229788 non-null  object\n",
            " 13  comments_disabled  229788 non-null  bool  \n",
            " 14  ratings_disabled   229788 non-null  bool  \n",
            "dtypes: bool(2), int64(5), object(8)\n",
            "memory usage: 23.2+ MB\n"
          ]
        }
      ]
    },
    {
      "cell_type": "code",
      "source": [],
      "metadata": {
        "id": "_yknVJftt6kW"
      },
      "execution_count": 62,
      "outputs": []
    },
    {
      "cell_type": "code",
      "source": [
        "df.head(10).plot.bar(x = 'channelTitle', y ='view_count')\n",
        "plt.title('Number of views of top 10 channels')"
      ],
      "metadata": {
        "colab": {
          "base_uri": "https://localhost:8080/",
          "height": 634
        },
        "id": "LImLaNhIuOzv",
        "outputId": "60256153-5e2d-4343-9e86-e7c280b67a25"
      },
      "execution_count": 63,
      "outputs": [
        {
          "output_type": "execute_result",
          "data": {
            "text/plain": [
              "Text(0.5, 1.0, 'Number of views of top 10 channels')"
            ]
          },
          "metadata": {},
          "execution_count": 63
        },
        {
          "output_type": "display_data",
          "data": {
            "text/plain": [
              "<Figure size 640x480 with 1 Axes>"
            ],
            "image/png": "[encoded data removed]"
          },
          "metadata": {}
        }
      ]
    },
    {
      "cell_type": "code",
      "source": [
        "df[\"trending_year\"]=pd.DatetimeIndex(df['trending_date']).year\n",
        "#us[\"trending_year\"]= us[\"trending_date\"].apply(lambda x: '20' + x[:2])\n",
        "m=list(df[\"trending_year\"].value_counts())\n",
        "matplotlib.pyplot.figure(figsize=(9,9))\n",
        "sns.barplot(x=list(df[\"trending_year\"].unique()),y=m)"
      ],
      "metadata": {
        "colab": {
          "base_uri": "https://localhost:8080/",
          "height": 778
        },
        "id": "clgflVYfwsfT",
        "outputId": "0a1eb8c7-f721-4de1-c089-1765ef2d986a"
      },
      "execution_count": 71,
      "outputs": [
        {
          "output_type": "execute_result",
          "data": {
            "text/plain": [
              "<Axes: >"
            ]
          },
          "metadata": {},
          "execution_count": 71
        },
        {
          "output_type": "display_data",
          "data": {
            "text/plain": [
              "<Figure size 900x900 with 1 Axes>"
            ],
            "image/png": "[encoded data removed]"
          },
          "metadata": {}
        }
      ]
    },
    {
      "cell_type": "code",
      "source": [
        "|"
      ],
      "metadata": {
        "id": "Nx-GaCkuxari"
      },
      "execution_count": null,
      "outputs": []
    }
  ]
}